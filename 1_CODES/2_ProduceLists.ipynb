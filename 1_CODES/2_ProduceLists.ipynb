{
 "cells": [
  {
   "cell_type": "code",
   "execution_count": 3,
   "metadata": {},
   "outputs": [],
   "source": [
    "from Variables import *\n",
    "from LoadFunctions import *\n",
    "from ThreeDWindRadarFunctions import *\n",
    "from MatchFunctions import *\n",
    "from OtherUsefulFunctions import *\n",
    "from PlotInteractiveFunctions import *\n",
    "from InteractiveFunctions import *\n",
    "from Paths import *\n",
    "\n",
    "import warnings\n",
    "warnings.filterwarnings('ignore')"
   ]
  },
  {
   "cell_type": "code",
   "execution_count": 4,
   "metadata": {},
   "outputs": [],
   "source": [
    "startDate = dt.datetime(2020,7,11)\n",
    "endDate = dt.datetime(2020,7,12)\n",
    "dateList = produceDateList(startDate,endDate)"
   ]
  },
  {
   "cell_type": "code",
   "execution_count": 5,
   "metadata": {},
   "outputs": [
    {
     "name": "stdout",
     "output_type": "stream",
     "text": [
      "Producing pickle files : start and end times from the lidar for day 2020711\n",
      "Fixed timestamps  13\n",
      "Missing beams  74 see list indiceMissing\n",
      "Producing pickle files : start and end times from the radar for day 2020711\n",
      "Producing pickle file : matching radar and lidar acquisition times 2020711\n",
      "Producing pickle files : start and end times from the lidar for day 2020712\n",
      "Fixed timestamps  5\n",
      "Missing beams  84 see list indiceMissing\n",
      "Producing pickle files : start and end times from the radar for day 2020712\n",
      "Producing pickle file : matching radar and lidar acquisition times 2020712\n"
     ]
    }
   ],
   "source": [
    "for chosenDate in dateList:    \n",
    "    # Load \n",
    "    folder_radar, filepaths_radar,filenames_radar, date_radar, date_radardt,radarNoFile = loadRadar(chosenDate, path_dat)\n",
    "    folder_lidar, filepaths_lidar, filenames_lidar, date_lidar,date_lidardt, _,_,_,lidarNoFile = loadLidar(chosenDate, path_lidar)\n",
    "\n",
    "    ## Match\n",
    "    if (radarNoFile is False) and (lidarNoFile is False):\n",
    "        lidarStart, lidarEnd, indiceMissing = lidarStartEnd(chosenDate, filepaths_lidar, reCreate=False)\n",
    "        radarStart, radarEnd = radarStartEnd(chosenDate, filepaths_radar, reCreate=False) \n",
    "        JoinedData = retrieveLidarRadialSpeed(filepaths_radar,filepaths_lidar, radarStart, radarEnd, lidarStart, lidarEnd, \n",
    "                                              radar2lidar, chosenDate, high_mode,low_mode, reCreate=False)"
   ]
  }
 ],
 "metadata": {
  "kernelspec": {
   "display_name": "Python 3",
   "language": "python",
   "name": "python3"
  },
  "language_info": {
   "codemirror_mode": {
    "name": "ipython",
    "version": 3
   },
   "file_extension": ".py",
   "mimetype": "text/x-python",
   "name": "python",
   "nbconvert_exporter": "python",
   "pygments_lexer": "ipython3",
   "version": "3.6.9"
  }
 },
 "nbformat": 4,
 "nbformat_minor": 4
}
