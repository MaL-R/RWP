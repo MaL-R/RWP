{
 "cells": [
  {
   "cell_type": "code",
   "execution_count": 1,
   "metadata": {},
   "outputs": [],
   "source": [
    "from Variables import *\n",
    "from LoadFunctions import *\n",
    "from ThreeDWindRadarFunctions import *\n",
    "from MatchFunctions import *\n",
    "from OtherUsefulFunctions import *\n",
    "from PlotInteractiveFunctions import *\n",
    "from InteractiveFunctions import *\n",
    "from Paths import *\n",
    "from scipy.constants import golden \n",
    "\n",
    "import warnings\n",
    "warnings.filterwarnings('ignore')"
   ]
  },
  {
   "cell_type": "code",
   "execution_count": 2,
   "metadata": {},
   "outputs": [],
   "source": [
    "chosenDate = '2020712'\n",
    "beam_number = 5\n",
    "gate = 5\n",
    "mode = 'high'\n",
    "\n",
    "optionPlot = 4\n",
    "chosenStart = ['0100']\n",
    "chosenEnd = ['0300']"
   ]
  },
  {
   "cell_type": "code",
   "execution_count": 3,
   "metadata": {},
   "outputs": [
    {
     "name": "stdout",
     "output_type": "stream",
     "text": [
      "Loading pickle files : start and end times from the lidar for day 2020712\n",
      "Loading pickle files : start and end times from the radar for day 2020712\n",
      "Loading pickle files : matched radar and lidar acquisition times for day 2020712\n",
      "Changing paths\n"
     ]
    }
   ],
   "source": [
    "# Load \n",
    "folder_radar,filepaths_radar, filenames_radar, date_radar, date_radardt,radarNoFile = loadRadar(chosenDate, path_dat)\n",
    "folder_lidar, filepaths_lidar, filenames_lidar, date_lidar,date_lidardt,_,_,_,lidarNoFile = loadLidar(chosenDate, path_lidar)\n",
    "\n",
    "# Match\n",
    "if (radarNoFile is False) and (lidarNoFile is False):\n",
    "    lidarStart, lidarEnd, indiceMissing = lidarStartEnd(chosenDate, filepaths_lidar, reCreate=False)\n",
    "    radarStart, radarEnd = radarStartEnd(chosenDate, filepaths_radar, reCreate=False) #m14 !!\n",
    "    JoinedData = retrieveLidarRadialSpeed(filepaths_radar,filepaths_lidar, radarStart, radarEnd, lidarStart, lidarEnd, \n",
    "                                          radar2lidar, chosenDate, high_mode,low_mode, reCreate=False)\n",
    "\n",
    "# Wind\n",
    "path = path_highmode if mode == 'high' else path_lowmode\n",
    "\n",
    "df_aswFlag,optionFlag = concatASWradar(chosenDate, path, optionFlag=True)\n",
    "df_radialFlag = uvw2radial(df_aswFlag, beam_radar, elevationAngle=75, mode=mode)\n",
    "df_aswFlag = ASW2Barb(df_aswFlag,optionFlag)\n",
    "\n",
    "df_asw,optionFlag = concatASWradar(chosenDate, path, optionFlag=False)\n",
    "df_radial = uvw2radial(df_asw, beam_radar, elevationAngle=75, mode=mode)\n",
    "df_asw = ASW2Barb(df_asw,optionFlag)\n",
    "\n",
    "\n",
    "if path_dat not in JoinedData['filename'][0]:\n",
    "    print('Changing paths')\n",
    "    JoinedData = replacePath(JoinedData, chosenDate, path_dat)"
   ]
  },
  {
   "cell_type": "code",
   "execution_count": 4,
   "metadata": {},
   "outputs": [],
   "source": [
    "linewidth=3.0 \n",
    "fontsize1=20\n",
    "fontsize2=14\n",
    "\n",
    "matplotlib.rcParams['figure.figsize'] = (golden * 10, 10)\n",
    "matplotlib.rcParams['font.family'] = 'serif'\n",
    "matplotlib.rcParams.update({'font.size': fontsize1})"
   ]
  },
  {
   "cell_type": "code",
   "execution_count": 5,
   "metadata": {},
   "outputs": [],
   "source": [
    "# Gates depending on mode\n",
    "modeAltitude = high_mode if mode == 'high' else low_mode\n",
    "\n",
    "# Colormap & fontsize\n",
    "light_jet = cmap_map(lambda x: x + 0.3, matplotlib.cm.jet) #allows to have transparency on the jet colormap\n",
    "\n",
    "\n",
    "date_toute1, date_toute2,date_t, fig = plotAlltogether(chosenDate, chosenStart[0], chosenEnd[0], int(gate), mode, int(beam_number),\n",
    "                        radarStart, radarEnd, JoinedData, pathSave, df_radial,df_aswFlag, date_radardt,\n",
    "                        optionSave=True, optionSpec=5, optionPlot=4,linewidth=1.0, fontsize1=fontsize1, fontsize2=fontsize2)\n",
    "\n",
    "print('Finished, saved in folder 4_Figures')"
   ]
  }
 ],
 "metadata": {
  "kernelspec": {
   "display_name": "Python 3",
   "language": "python",
   "name": "python3"
  },
  "language_info": {
   "codemirror_mode": {
    "name": "ipython",
    "version": 3
   },
   "file_extension": ".py",
   "mimetype": "text/x-python",
   "name": "python",
   "nbconvert_exporter": "python",
   "pygments_lexer": "ipython3",
   "version": "3.6.9"
  }
 },
 "nbformat": 4,
 "nbformat_minor": 4
}
